{
  "nbformat": 4,
  "nbformat_minor": 0,
  "metadata": {
    "colab": {
      "name": "Mid_term.ipynb",
      "provenance": [],
      "collapsed_sections": []
    },
    "kernelspec": {
      "name": "python3",
      "display_name": "Python 3"
    },
    "accelerator": "GPU"
  },
  "cells": [
    {
      "cell_type": "code",
      "metadata": {
        "id": "7W2f0Rtnu7gc"
      },
      "source": [
        "import numpy as np\n",
        "from numpy import  random\n",
        "from tensorflow import keras\n",
        "import matplotlib.pyplot as plt\n",
        "import numpy as np\n",
        "from tensorflow.keras.utils import to_categorical\n",
        "mnist = keras.datasets.mnist"
      ],
      "execution_count": 2,
      "outputs": []
    },
    {
      "cell_type": "code",
      "metadata": {
        "id": "dcxfBisBvWgE"
      },
      "source": [
        "class Layer:\n",
        "    def __init__(self,inputs,no_of_neurons):\n",
        "        # random.seed(10)\n",
        "        self.lamda = 0.01\n",
        "        self.weights = random.randn(no_of_neurons,inputs)\n",
        "        self.dwo = np.zeros(self.weights.shape)\n",
        "    def feedforward(self,inputs):\n",
        "        self.input = inputs\n",
        "        self.output = np.dot(inputs, np.array(self.weights).T)\n",
        "    def activationRelu(self,inputs):\n",
        "        self.activationoutput = np.maximum(0,inputs)\n",
        "    def sigmoid(self,inputs):\n",
        "        self.sigmoidoutput = 1/(1+np.exp(-inputs))\n",
        "    def backpropogate(self,Y):\n",
        "        y = self.sigmoidoutput\n",
        "        self.do = y*(1-y)*(Y-y)  #deltaoutput\n",
        "        # update weights with momentum\n",
        "        self.dwo = 0.9*self.dwo + np.dot(self.do.T,self.input)\n",
        "        self.previousweights = self.weights\n",
        "        # self.weights = self.weights+0.01*self.dwo\n",
        "        self.weights = self.weights+ 0.01*self.dwo-(2*self.lamda*np.sign(self.weights)) \n",
        "    def backpropogatelayers(self,Y,we):\n",
        "        y=self.sigmoidoutput\n",
        "        x = y*(1-y)\n",
        "        self.do = np.dot(Y,we )*x # delta backpropagated\n",
        "        self.dwo = 0.9 * self.dwo + np.dot(self.do.T, self.input)\n",
        "        self.previousweights = self.weights\n",
        "        self.weights = self.weights + 0.01*self.dwo -(2*self.lamda*np.sign(self.weights))\n",
        "        # self.weights = self.weights + 0.01 * self.dwo\n"
      ],
      "execution_count": 3,
      "outputs": []
    },
    {
      "cell_type": "code",
      "metadata": {
        "id": "w31k3Aj7wc7I"
      },
      "source": [
        "class Model:\n",
        "    def fit_predict(self,x_train,y_train,epoch,x_test,y_test):\n",
        "        l1 = Layer(784, 512)\n",
        "        l2 = Layer(512, 256)\n",
        "        l3 = Layer(256, 98)\n",
        "        l4 = Layer(98, 49)\n",
        "        l5 = Layer(49, 24)\n",
        "        l6 = Layer(24, 10)\n",
        "        l7 = Layer(10, 6)\n",
        "        layers = [l1, l2, l3, l4, l5, l6, l7]\n",
        "        train_error = []\n",
        "        test_error = []\n",
        "        for i in range(epoch):\n",
        "            l1.feedforward(x_train)\n",
        "            l1.sigmoid(l1.output)\n",
        "            for i in range(1, len(layers)):\n",
        "                layers[i].feedforward(layers[i - 1].sigmoidoutput)\n",
        "                layers[i].sigmoid(layers[i].output)\n",
        "            error = np.sum(np.abs(y_train - l7.sigmoidoutput))\n",
        "            train_error.append(error/(x_train.shape[0]))\n",
        "            print(error/(x_train.shape[0]),\"train error\")\n",
        "            l7.backpropogate(y_train)\n",
        "            for i in range(len(layers)-1,0):\n",
        "                layers[i].backpropogatelayers(layers[i+1].do,layers[i+1].previousweights)\n",
        "            l1.feedforward(x_test)\n",
        "            l1.sigmoid(l1.output)\n",
        "            for i in range(1, len(layers)):\n",
        "                layers[i].feedforward(layers[i - 1].sigmoidoutput)\n",
        "                layers[i].sigmoid(layers[i].output)\n",
        "            error1 = np.sum(np.abs(y_test - l7.sigmoidoutput))\n",
        "            print(error1/(x_test.shape[0]), \"test error\")\n",
        "            test_error.append(error1/(x_test.shape[0]))\n",
        "        return train_error,test_error\n"
      ],
      "execution_count": 4,
      "outputs": []
    },
    {
      "cell_type": "code",
      "metadata": {
        "id": "uAl9KflYwrh3",
        "outputId": "a2847096-47b7-4698-8a54-42cf5dc0d8f4",
        "colab": {
          "base_uri": "https://localhost:8080/",
          "height": 52
        }
      },
      "source": [
        "(x_train, y_train), (x_test, y_test) = mnist.load_data()\n",
        "x_train = x_train.reshape(60000,784)/255\n",
        "x_test = x_test.reshape(10000,784)/255\n",
        "\n",
        "y_train = y_train.reshape(60000,1)\n",
        "y_train=y_train+48\n",
        "outputsize = 6\n",
        "y_train =(((y_train[:,None] & (1 << np.arange(outputsize)))) > 0).astype(int)\n",
        "y_train= y_train.reshape(60000,6)\n",
        "\n",
        "y_test = y_test.reshape(10000,1)\n",
        "y_test=y_test+48\n",
        "y_test =(((y_test[:,None] & (1 << np.arange(outputsize)))) > 0).astype(int)\n",
        "y_test= y_test.reshape(10000,6)"
      ],
      "execution_count": 5,
      "outputs": [
        {
          "output_type": "stream",
          "text": [
            "Downloading data from https://storage.googleapis.com/tensorflow/tf-keras-datasets/mnist.npz\n",
            "11493376/11490434 [==============================] - 0s 0us/step\n"
          ],
          "name": "stdout"
        }
      ]
    },
    {
      "cell_type": "code",
      "metadata": {
        "id": "2XWbzlzgw096",
        "outputId": "f0cbf907-ac90-4ecc-85ab-0520056b456b",
        "colab": {
          "base_uri": "https://localhost:8080/",
          "height": 369
        }
      },
      "source": [
        "m = Model()\n",
        "epoch = 10\n",
        "train,test=m.fit_predict(x_train[:8000],y_train[:8000],epoch,x_test[:10],y_test[:10])"
      ],
      "execution_count": 8,
      "outputs": [
        {
          "output_type": "stream",
          "text": [
            "3.0188682141229006 train error\n",
            "2.475052037663269 test error\n",
            "2.1690656204164607 train error\n",
            "1.6375838556401177 test error\n",
            "1.5798417120847585 train error\n",
            "1.4000869144058086 test error\n",
            "1.5021531686408593 train error\n",
            "1.4000000499027783 test error\n",
            "1.5021250154453518 train error\n",
            "1.400000000061811 test error\n",
            "1.5021250000187545 train error\n",
            "1.400000000000155 test error\n",
            "1.502125000000048 train error\n",
            "1.4000000000000008 test error\n",
            "1.502125 train error\n",
            "1.4 test error\n",
            "1.502125 train error\n",
            "1.4 test error\n",
            "1.502125 train error\n",
            "1.4 test error\n"
          ],
          "name": "stdout"
        }
      ]
    },
    {
      "cell_type": "code",
      "metadata": {
        "id": "HaEMbHqAzZ1u",
        "outputId": "b273a154-fac1-4ba4-feb4-a5fff5df314a",
        "colab": {
          "base_uri": "https://localhost:8080/",
          "height": 297
        }
      },
      "source": [
        "xaxis = []\n",
        "for i in range(epoch):\n",
        "    xaxis.append(i+1)\n",
        "plt.plot(xaxis,train,'g',label=\"train\")\n",
        "plt.plot(xaxis,test,label=\"test\")\n",
        "plt.legend()\n",
        "plt.xlabel(\"epoch\")\n",
        "plt.ylabel(\"error\")"
      ],
      "execution_count": 9,
      "outputs": [
        {
          "output_type": "execute_result",
          "data": {
            "text/plain": [
              "Text(0, 0.5, 'error')"
            ]
          },
          "metadata": {
            "tags": []
          },
          "execution_count": 9
        },
        {
          "output_type": "display_data",
          "data": {
            "image/png": "[encoded data removed]",
            "text/plain": [
              "<Figure size 432x288 with 1 Axes>"
            ]
          },
          "metadata": {
            "tags": [],
            "needs_background": "light"
          }
        }
      ]
    }
  ]
}